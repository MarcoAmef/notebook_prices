{
 "cells": [
  {
   "cell_type": "markdown",
   "metadata": {},
   "source": [
    "## Importando bibliotecas"
   ]
  },
  {
   "cell_type": "code",
   "execution_count": 2,
   "metadata": {},
   "outputs": [],
   "source": [
    "import pandas as pd\n",
    "import seaborn as sns\n",
    "import matplotlib.pyplot as plt\n",
    "import numpy as np\n",
    "from sklearn.model_selection import train_test_split\n",
    "from sklearn.linear_model import LinearRegression\n",
    "from sklearn.preprocessing import PolynomialFeatures\n",
    "from sklearn.tree import DecisionTreeRegressor\n",
    "from sklearn.ensemble import RandomForestRegressor\n",
    "from sklearn.svm import SVR\n",
    "from sklearn.neural_network import MLPRegressor"
   ]
  },
  {
   "cell_type": "markdown",
   "metadata": {},
   "source": [
    "## Tratando a Base"
   ]
  },
  {
   "cell_type": "code",
   "execution_count": 3,
   "metadata": {},
   "outputs": [],
   "source": [
    "df = pd.read_csv(r'C:\\Users\\marco\\OneDrive\\Documentos\\Projetos\\python_projects\\notebook_prices\\laptop_prices.csv')"
   ]
  },
  {
   "cell_type": "code",
   "execution_count": 6,
   "metadata": {},
   "outputs": [
    {
     "data": {
      "text/html": [
       "<div>\n",
       "<style scoped>\n",
       "    .dataframe tbody tr th:only-of-type {\n",
       "        vertical-align: middle;\n",
       "    }\n",
       "\n",
       "    .dataframe tbody tr th {\n",
       "        vertical-align: top;\n",
       "    }\n",
       "\n",
       "    .dataframe thead th {\n",
       "        text-align: right;\n",
       "    }\n",
       "</style>\n",
       "<table border=\"1\" class=\"dataframe\">\n",
       "  <thead>\n",
       "    <tr style=\"text-align: right;\">\n",
       "      <th></th>\n",
       "      <th>Company</th>\n",
       "      <th>Product</th>\n",
       "      <th>TypeName</th>\n",
       "      <th>Inches</th>\n",
       "      <th>Ram</th>\n",
       "      <th>OS</th>\n",
       "      <th>Weight</th>\n",
       "      <th>Price_euros</th>\n",
       "      <th>Screen</th>\n",
       "      <th>ScreenW</th>\n",
       "      <th>...</th>\n",
       "      <th>RetinaDisplay</th>\n",
       "      <th>CPU_company</th>\n",
       "      <th>CPU_freq</th>\n",
       "      <th>CPU_model</th>\n",
       "      <th>PrimaryStorage</th>\n",
       "      <th>SecondaryStorage</th>\n",
       "      <th>PrimaryStorageType</th>\n",
       "      <th>SecondaryStorageType</th>\n",
       "      <th>GPU_company</th>\n",
       "      <th>GPU_model</th>\n",
       "    </tr>\n",
       "  </thead>\n",
       "  <tbody>\n",
       "    <tr>\n",
       "      <th>0</th>\n",
       "      <td>Apple</td>\n",
       "      <td>MacBook Pro</td>\n",
       "      <td>Ultrabook</td>\n",
       "      <td>13.3</td>\n",
       "      <td>8</td>\n",
       "      <td>macOS</td>\n",
       "      <td>1.37</td>\n",
       "      <td>1339.69</td>\n",
       "      <td>Standard</td>\n",
       "      <td>2560</td>\n",
       "      <td>...</td>\n",
       "      <td>Yes</td>\n",
       "      <td>Intel</td>\n",
       "      <td>2.3</td>\n",
       "      <td>Core i5</td>\n",
       "      <td>128</td>\n",
       "      <td>0</td>\n",
       "      <td>SSD</td>\n",
       "      <td>No</td>\n",
       "      <td>Intel</td>\n",
       "      <td>Iris Plus Graphics 640</td>\n",
       "    </tr>\n",
       "    <tr>\n",
       "      <th>1</th>\n",
       "      <td>Apple</td>\n",
       "      <td>Macbook Air</td>\n",
       "      <td>Ultrabook</td>\n",
       "      <td>13.3</td>\n",
       "      <td>8</td>\n",
       "      <td>macOS</td>\n",
       "      <td>1.34</td>\n",
       "      <td>898.94</td>\n",
       "      <td>Standard</td>\n",
       "      <td>1440</td>\n",
       "      <td>...</td>\n",
       "      <td>No</td>\n",
       "      <td>Intel</td>\n",
       "      <td>1.8</td>\n",
       "      <td>Core i5</td>\n",
       "      <td>128</td>\n",
       "      <td>0</td>\n",
       "      <td>Flash Storage</td>\n",
       "      <td>No</td>\n",
       "      <td>Intel</td>\n",
       "      <td>HD Graphics 6000</td>\n",
       "    </tr>\n",
       "    <tr>\n",
       "      <th>2</th>\n",
       "      <td>HP</td>\n",
       "      <td>250 G6</td>\n",
       "      <td>Notebook</td>\n",
       "      <td>15.6</td>\n",
       "      <td>8</td>\n",
       "      <td>No OS</td>\n",
       "      <td>1.86</td>\n",
       "      <td>575.00</td>\n",
       "      <td>Full HD</td>\n",
       "      <td>1920</td>\n",
       "      <td>...</td>\n",
       "      <td>No</td>\n",
       "      <td>Intel</td>\n",
       "      <td>2.5</td>\n",
       "      <td>Core i5 7200U</td>\n",
       "      <td>256</td>\n",
       "      <td>0</td>\n",
       "      <td>SSD</td>\n",
       "      <td>No</td>\n",
       "      <td>Intel</td>\n",
       "      <td>HD Graphics 620</td>\n",
       "    </tr>\n",
       "    <tr>\n",
       "      <th>3</th>\n",
       "      <td>Apple</td>\n",
       "      <td>MacBook Pro</td>\n",
       "      <td>Ultrabook</td>\n",
       "      <td>15.4</td>\n",
       "      <td>16</td>\n",
       "      <td>macOS</td>\n",
       "      <td>1.83</td>\n",
       "      <td>2537.45</td>\n",
       "      <td>Standard</td>\n",
       "      <td>2880</td>\n",
       "      <td>...</td>\n",
       "      <td>Yes</td>\n",
       "      <td>Intel</td>\n",
       "      <td>2.7</td>\n",
       "      <td>Core i7</td>\n",
       "      <td>512</td>\n",
       "      <td>0</td>\n",
       "      <td>SSD</td>\n",
       "      <td>No</td>\n",
       "      <td>AMD</td>\n",
       "      <td>Radeon Pro 455</td>\n",
       "    </tr>\n",
       "    <tr>\n",
       "      <th>4</th>\n",
       "      <td>Apple</td>\n",
       "      <td>MacBook Pro</td>\n",
       "      <td>Ultrabook</td>\n",
       "      <td>13.3</td>\n",
       "      <td>8</td>\n",
       "      <td>macOS</td>\n",
       "      <td>1.37</td>\n",
       "      <td>1803.60</td>\n",
       "      <td>Standard</td>\n",
       "      <td>2560</td>\n",
       "      <td>...</td>\n",
       "      <td>Yes</td>\n",
       "      <td>Intel</td>\n",
       "      <td>3.1</td>\n",
       "      <td>Core i5</td>\n",
       "      <td>256</td>\n",
       "      <td>0</td>\n",
       "      <td>SSD</td>\n",
       "      <td>No</td>\n",
       "      <td>Intel</td>\n",
       "      <td>Iris Plus Graphics 650</td>\n",
       "    </tr>\n",
       "  </tbody>\n",
       "</table>\n",
       "<p>5 rows × 23 columns</p>\n",
       "</div>"
      ],
      "text/plain": [
       "  Company      Product   TypeName  Inches  Ram     OS  Weight  Price_euros  \\\n",
       "0   Apple  MacBook Pro  Ultrabook    13.3    8  macOS    1.37      1339.69   \n",
       "1   Apple  Macbook Air  Ultrabook    13.3    8  macOS    1.34       898.94   \n",
       "2      HP       250 G6   Notebook    15.6    8  No OS    1.86       575.00   \n",
       "3   Apple  MacBook Pro  Ultrabook    15.4   16  macOS    1.83      2537.45   \n",
       "4   Apple  MacBook Pro  Ultrabook    13.3    8  macOS    1.37      1803.60   \n",
       "\n",
       "     Screen  ScreenW  ...  RetinaDisplay CPU_company CPU_freq      CPU_model  \\\n",
       "0  Standard     2560  ...            Yes       Intel      2.3        Core i5   \n",
       "1  Standard     1440  ...             No       Intel      1.8        Core i5   \n",
       "2   Full HD     1920  ...             No       Intel      2.5  Core i5 7200U   \n",
       "3  Standard     2880  ...            Yes       Intel      2.7        Core i7   \n",
       "4  Standard     2560  ...            Yes       Intel      3.1        Core i5   \n",
       "\n",
       "  PrimaryStorage  SecondaryStorage PrimaryStorageType  SecondaryStorageType  \\\n",
       "0            128                 0                SSD                    No   \n",
       "1            128                 0      Flash Storage                    No   \n",
       "2            256                 0                SSD                    No   \n",
       "3            512                 0                SSD                    No   \n",
       "4            256                 0                SSD                    No   \n",
       "\n",
       "   GPU_company               GPU_model  \n",
       "0        Intel  Iris Plus Graphics 640  \n",
       "1        Intel        HD Graphics 6000  \n",
       "2        Intel         HD Graphics 620  \n",
       "3          AMD          Radeon Pro 455  \n",
       "4        Intel  Iris Plus Graphics 650  \n",
       "\n",
       "[5 rows x 23 columns]"
      ]
     },
     "execution_count": 6,
     "metadata": {},
     "output_type": "execute_result"
    }
   ],
   "source": [
    "df.head()"
   ]
  },
  {
   "cell_type": "code",
   "execution_count": 7,
   "metadata": {},
   "outputs": [
    {
     "name": "stdout",
     "output_type": "stream",
     "text": [
      "<class 'pandas.core.frame.DataFrame'>\n",
      "RangeIndex: 1275 entries, 0 to 1274\n",
      "Data columns (total 23 columns):\n",
      " #   Column                Non-Null Count  Dtype  \n",
      "---  ------                --------------  -----  \n",
      " 0   Company               1275 non-null   object \n",
      " 1   Product               1275 non-null   object \n",
      " 2   TypeName              1275 non-null   object \n",
      " 3   Inches                1275 non-null   float64\n",
      " 4   Ram                   1275 non-null   int64  \n",
      " 5   OS                    1275 non-null   object \n",
      " 6   Weight                1275 non-null   float64\n",
      " 7   Price_euros           1275 non-null   float64\n",
      " 8   Screen                1275 non-null   object \n",
      " 9   ScreenW               1275 non-null   int64  \n",
      " 10  ScreenH               1275 non-null   int64  \n",
      " 11  Touchscreen           1275 non-null   object \n",
      " 12  IPSpanel              1275 non-null   object \n",
      " 13  RetinaDisplay         1275 non-null   object \n",
      " 14  CPU_company           1275 non-null   object \n",
      " 15  CPU_freq              1275 non-null   float64\n",
      " 16  CPU_model             1275 non-null   object \n",
      " 17  PrimaryStorage        1275 non-null   int64  \n",
      " 18  SecondaryStorage      1275 non-null   int64  \n",
      " 19  PrimaryStorageType    1275 non-null   object \n",
      " 20  SecondaryStorageType  1275 non-null   object \n",
      " 21  GPU_company           1275 non-null   object \n",
      " 22  GPU_model             1275 non-null   object \n",
      "dtypes: float64(4), int64(5), object(14)\n",
      "memory usage: 229.2+ KB\n"
     ]
    }
   ],
   "source": [
    "df.info()"
   ]
  },
  {
   "cell_type": "code",
   "execution_count": 9,
   "metadata": {},
   "outputs": [
    {
     "data": {
      "text/plain": [
       "Company                 0\n",
       "Product                 0\n",
       "TypeName                0\n",
       "Inches                  0\n",
       "Ram                     0\n",
       "OS                      0\n",
       "Weight                  0\n",
       "Price_euros             0\n",
       "Screen                  0\n",
       "ScreenW                 0\n",
       "ScreenH                 0\n",
       "Touchscreen             0\n",
       "IPSpanel                0\n",
       "RetinaDisplay           0\n",
       "CPU_company             0\n",
       "CPU_freq                0\n",
       "CPU_model               0\n",
       "PrimaryStorage          0\n",
       "SecondaryStorage        0\n",
       "PrimaryStorageType      0\n",
       "SecondaryStorageType    0\n",
       "GPU_company             0\n",
       "GPU_model               0\n",
       "dtype: int64"
      ]
     },
     "execution_count": 9,
     "metadata": {},
     "output_type": "execute_result"
    }
   ],
   "source": [
    "df.isna().sum()"
   ]
  },
  {
   "cell_type": "code",
   "execution_count": 12,
   "metadata": {},
   "outputs": [
    {
     "name": "stdout",
     "output_type": "stream",
     "text": [
      "<class 'pandas.core.frame.DataFrame'>\n",
      "RangeIndex: 1275 entries, 0 to 1274\n",
      "Data columns (total 23 columns):\n",
      " #   Column                Non-Null Count  Dtype  \n",
      "---  ------                --------------  -----  \n",
      " 0   Company               1275 non-null   object \n",
      " 1   Product               1275 non-null   object \n",
      " 2   TypeName              1275 non-null   object \n",
      " 3   Inches                1275 non-null   float64\n",
      " 4   Ram                   1275 non-null   int64  \n",
      " 5   OS                    1275 non-null   object \n",
      " 6   Weight                1275 non-null   float64\n",
      " 7   Price_euros           1275 non-null   float64\n",
      " 8   Screen                1275 non-null   object \n",
      " 9   ScreenW               1275 non-null   int64  \n",
      " 10  ScreenH               1275 non-null   int64  \n",
      " 11  Touchscreen           1275 non-null   object \n",
      " 12  IPSpanel              1275 non-null   object \n",
      " 13  RetinaDisplay         1275 non-null   object \n",
      " 14  CPU_company           1275 non-null   object \n",
      " 15  CPU_freq              1275 non-null   float64\n",
      " 16  CPU_model             1275 non-null   object \n",
      " 17  PrimaryStorage        1275 non-null   int64  \n",
      " 18  SecondaryStorage      1275 non-null   int64  \n",
      " 19  PrimaryStorageType    1275 non-null   object \n",
      " 20  SecondaryStorageType  1275 non-null   object \n",
      " 21  GPU_company           1275 non-null   object \n",
      " 22  GPU_model             1275 non-null   object \n",
      "dtypes: float64(4), int64(5), object(14)\n",
      "memory usage: 229.2+ KB\n"
     ]
    }
   ],
   "source": [
    "df.info()"
   ]
  },
  {
   "cell_type": "code",
   "execution_count": 11,
   "metadata": {},
   "outputs": [
    {
     "data": {
      "text/plain": [
       "Index(['Company', 'Product', 'TypeName', 'Inches', 'Ram', 'OS', 'Weight',\n",
       "       'Price_euros', 'Screen', 'ScreenW', 'ScreenH', 'Touchscreen',\n",
       "       'IPSpanel', 'RetinaDisplay', 'CPU_company', 'CPU_freq', 'CPU_model',\n",
       "       'PrimaryStorage', 'SecondaryStorage', 'PrimaryStorageType',\n",
       "       'SecondaryStorageType', 'GPU_company', 'GPU_model'],\n",
       "      dtype='object')"
      ]
     },
     "execution_count": 11,
     "metadata": {},
     "output_type": "execute_result"
    }
   ],
   "source": [
    "df.columns"
   ]
  },
  {
   "cell_type": "code",
   "execution_count": null,
   "metadata": {},
   "outputs": [
    {
     "name": "stdout",
     "output_type": "stream",
     "text": [
      "19\n",
      "618\n",
      "6\n",
      "9\n",
      "4\n",
      "3\n",
      "4\n",
      "93\n",
      "110\n"
     ]
    }
   ],
   "source": [
    "print(df['Company'].nunique())\n",
    "print(df['Product'].nunique()) #dropar\n",
    "print(df['TypeName'].nunique())\n",
    "print(df['OS'].nunique())\n",
    "print(df['Screen'].nunique())\n",
    "print(df['CPU_company'].nunique())\n",
    "print(df['GPU_company'].nunique())\n",
    "print(df['CPU_model'].nunique()) #dropar\n",
    "print(df['GPU_model'].nunique()) #dropar\n",
    "\n"
   ]
  },
  {
   "cell_type": "code",
   "execution_count": 24,
   "metadata": {},
   "outputs": [],
   "source": [
    "df = df.drop(columns=['Product', 'CPU_model', 'GPU_model'])"
   ]
  },
  {
   "cell_type": "code",
   "execution_count": 25,
   "metadata": {},
   "outputs": [
    {
     "name": "stdout",
     "output_type": "stream",
     "text": [
      "<class 'pandas.core.frame.DataFrame'>\n",
      "RangeIndex: 1275 entries, 0 to 1274\n",
      "Data columns (total 20 columns):\n",
      " #   Column                Non-Null Count  Dtype  \n",
      "---  ------                --------------  -----  \n",
      " 0   Company               1275 non-null   object \n",
      " 1   TypeName              1275 non-null   int64  \n",
      " 2   Inches                1275 non-null   float64\n",
      " 3   Ram                   1275 non-null   int64  \n",
      " 4   OS                    1275 non-null   object \n",
      " 5   Weight                1275 non-null   float64\n",
      " 6   Price_euros           1275 non-null   float64\n",
      " 7   Screen                1275 non-null   object \n",
      " 8   ScreenW               1275 non-null   int64  \n",
      " 9   ScreenH               1275 non-null   int64  \n",
      " 10  Touchscreen           1275 non-null   object \n",
      " 11  IPSpanel              1275 non-null   object \n",
      " 12  RetinaDisplay         1275 non-null   object \n",
      " 13  CPU_company           1275 non-null   object \n",
      " 14  CPU_freq              1275 non-null   float64\n",
      " 15  PrimaryStorage        1275 non-null   int64  \n",
      " 16  SecondaryStorage      1275 non-null   int64  \n",
      " 17  PrimaryStorageType    1275 non-null   object \n",
      " 18  SecondaryStorageType  1275 non-null   object \n",
      " 19  GPU_company           1275 non-null   object \n",
      "dtypes: float64(4), int64(6), object(10)\n",
      "memory usage: 199.3+ KB\n"
     ]
    }
   ],
   "source": [
    "df.info()"
   ]
  },
  {
   "cell_type": "code",
   "execution_count": 17,
   "metadata": {},
   "outputs": [
    {
     "data": {
      "text/plain": [
       "array(['Ultrabook', 'Notebook', 'Netbook', 'Gaming', '2 in 1 Convertible',\n",
       "       'Workstation'], dtype=object)"
      ]
     },
     "execution_count": 17,
     "metadata": {},
     "output_type": "execute_result"
    }
   ],
   "source": [
    "df['TypeName'].unique()"
   ]
  },
  {
   "cell_type": "code",
   "execution_count": 18,
   "metadata": {},
   "outputs": [],
   "source": [
    "type_encoded = {'Netbook': 0, 'Notebook': 1, 'Ultrabook': 2, '2 in 1 Convertible': 3, 'Gaming': 4, 'Workstation': 5}"
   ]
  },
  {
   "cell_type": "code",
   "execution_count": 20,
   "metadata": {},
   "outputs": [],
   "source": [
    "df['TypeName'] = df['TypeName'].map(type_encoded)"
   ]
  },
  {
   "cell_type": "code",
   "execution_count": 21,
   "metadata": {},
   "outputs": [
    {
     "data": {
      "text/plain": [
       "0       2\n",
       "1       2\n",
       "2       1\n",
       "3       2\n",
       "4       2\n",
       "       ..\n",
       "1270    3\n",
       "1271    3\n",
       "1272    1\n",
       "1273    1\n",
       "1274    1\n",
       "Name: TypeName, Length: 1275, dtype: int64"
      ]
     },
     "execution_count": 21,
     "metadata": {},
     "output_type": "execute_result"
    }
   ],
   "source": [
    "df['TypeName']"
   ]
  },
  {
   "cell_type": "code",
   "execution_count": 26,
   "metadata": {},
   "outputs": [
    {
     "data": {
      "text/plain": [
       "array(['macOS', 'No OS', 'Windows 10', 'Mac OS X', 'Linux', 'Android',\n",
       "       'Windows 10 S', 'Chrome OS', 'Windows 7'], dtype=object)"
      ]
     },
     "execution_count": 26,
     "metadata": {},
     "output_type": "execute_result"
    }
   ],
   "source": [
    "df['OS'].unique()"
   ]
  },
  {
   "cell_type": "code",
   "execution_count": 27,
   "metadata": {},
   "outputs": [
    {
     "data": {
      "text/plain": [
       "OS\n",
       "Android          434.000000\n",
       "Chrome OS        553.585185\n",
       "No OS            587.973333\n",
       "Linux            621.867069\n",
       "Windows 10      1180.684065\n",
       "Mac OS X        1262.871250\n",
       "Windows 10 S    1286.480000\n",
       "Windows 7       1686.651333\n",
       "macOS           1749.630769\n",
       "Name: Price_euros, dtype: float64"
      ]
     },
     "execution_count": 27,
     "metadata": {},
     "output_type": "execute_result"
    }
   ],
   "source": [
    "df.groupby(\"OS\")[\"Price_euros\"].mean().sort_values()"
   ]
  },
  {
   "cell_type": "code",
   "execution_count": null,
   "metadata": {},
   "outputs": [],
   "source": [
    "os_encoded = {'Android': 0, 'Chrome OS': 0, 'No OS': 0, 'Linux': 0, 'Windows 10': 0, 'Max OS X': 0, 'Windows 10 S': 0, 'Windows 7': 0, 'Android': 0}"
   ]
  },
  {
   "cell_type": "code",
   "execution_count": null,
   "metadata": {},
   "outputs": [],
   "source": [
    "os_encoded = {\n",
    "    \"No OS\": 0,         # Normalmente os mais baratos\n",
    "    \"Chrome OS\": 1,     # Chromebooks também são baratos\n",
    "    \"Windows 7\": 2,     # Mais antigo, tende a estar em máquinas mais baratas\n",
    "    \"Windows 10 S\": 3,  # Versão limitada do Windows, geralmente em notebooks de entrada\n",
    "    \"Linux\": 4,         # Encontrado em máquinas de baixo e médio custo\n",
    "    \"Windows 10\": 5,    # O mais comum em notebooks de diversas faixas de preço\n",
    "    \"Android\": 6, \"Mac OS X\": 7, \"macOS\": 8          # MacBooks novos, geralmente os mais caros\n",
    "}"
   ]
  }
 ],
 "metadata": {
  "kernelspec": {
   "display_name": "Python 3",
   "language": "python",
   "name": "python3"
  },
  "language_info": {
   "codemirror_mode": {
    "name": "ipython",
    "version": 3
   },
   "file_extension": ".py",
   "mimetype": "text/x-python",
   "name": "python",
   "nbconvert_exporter": "python",
   "pygments_lexer": "ipython3",
   "version": "3.13.0"
  }
 },
 "nbformat": 4,
 "nbformat_minor": 2
}
